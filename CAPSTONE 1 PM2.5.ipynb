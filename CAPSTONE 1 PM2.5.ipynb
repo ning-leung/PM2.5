{
 "cells": [
  {
   "cell_type": "markdown",
   "metadata": {},
   "source": [
    "# INTRODUCTION"
   ]
  },
  {
   "cell_type": "markdown",
   "metadata": {},
   "source": [
    "Hi my name is Ning Leung, and I am a Mechanical Engineer looking to explore the world of data science, and I took the Springboard’s “Data Science Career Track”. I was partner up with my mentor Michal, and together with her help, I embarked on the myriads of courses from the curriculum and applied the skillsets onto my capstone projects.\n",
    "I have spent many years studying math, but programming had never been a major component of my work and statistics has always been a small blimp on my radar. I have had some exposure to writing simple scripts in MATLAB using C and played around in the Neural Network toolkit, but I would never consider myself someone comfortable with the tool or the language. So, as I progress through the coursework, reading textbooks, and watching lecture courses on statistical analysis and using Python for data analytics, it was both a refreshing and humbling experience. The experience definitely reminded me how enjoyable it was to learn something new along the way.\n",
    "I knew from speaking to different data scientists in the industry, they have pointed me towards the powerful application of regression. When it was time for me to choose my capstone project, Michal had recommended me to explore time-series regression of a multivariate data set. And because I am fascinated by the weather and the environment, I have decided to investigate the pollution and air quality of Beijing. \n"
   ]
  },
  {
   "cell_type": "markdown",
   "metadata": {},
   "source": [
    "# THE PROBLEM"
   ]
  },
  {
   "cell_type": "markdown",
   "metadata": {},
   "source": [
    "Beijing is famous for its pollution during the winter, and the smog gets especially thicker than usual due to the increased demand for burning coal for heat and electricity. A common way of measuring air quality is to investigate the concentration of fine particulate matter (PM2.5), these matters are a concoction of liquid droplets and small particles created from vehicle exhaust or powerplants with the size being 2.5 microns, hence the name PM2.5.\n",
    "These small matters could get inside our body and get lodge inside our lungs and travel within the cardiovascular system, needless to say these pollutions can cause health issue. Having a good understanding of the PM2.5 concentration in the air is therefore important. The UCI Machine Learning database contains a set of hourly record of PM2.5 data from 2010 to 2015, measured from the U.S. Embassy at Beijing and it is further enhanced by additional meteorological data from Beijing Capital International Airport. \n",
    "\n",
    "So using these information, would it be possible to predict the PM2.5 concentration in the air with respect to time?"
   ]
  },
  {
   "cell_type": "markdown",
   "metadata": {},
   "source": [
    "# THE SOLUTION"
   ]
  },
  {
   "cell_type": "markdown",
   "metadata": {},
   "source": [
    "To tackle the problem is simple: we were given a time dependent dataset and looking to forecast into the future by observing the trend exhibited by the data, this type of problem is suitable to use linear regression for analysis. \n",
    "\n",
    "Without going into too much detail about linear regression. But a basic google search will yield a trove of examples and explanations on the metholodgies behind Time Series Linear Regression Models. The essential model reovlves around the form:\n",
    "\n",
    "[Y] = b_0 + b_1 * [x] + e\n",
    "\n",
    "Where,\n",
    "\n",
    "b_0 is the intercept for the line represented from the above equation.\n",
    "b_1 is the slope for the line based on x.\n",
    "e is the deviation from the line plotted from the model.\n",
    "\n",
    "\n",
    "In my case, the [x] would be the time variable, while the [y] would be the 2.5PM concentration. The intercept b_0 is where the PM2.5 ([y]) is when time ([x]) is zero.\n",
    "\n",
    "To move forward with analysing the data, I pulled the csv files into panda dataframe and looked into the data structure:"
   ]
  },
  {
   "cell_type": "code",
   "execution_count": 1,
   "metadata": {
    "collapsed": true
   },
   "outputs": [],
   "source": [
    "import matplotlib.pyplot as plt\n",
    "import pandas as pd\n",
    "import numpy as np\n",
    "from datetime import datetime"
   ]
  },
  {
   "cell_type": "code",
   "execution_count": 2,
   "metadata": {
    "collapsed": true
   },
   "outputs": [],
   "source": [
    "#CSV Pull\n",
    "df = pd.read_csv('PRSA_data_2010.1.1-2014.12.31.csv', index_col = 0)"
   ]
  },
  {
   "cell_type": "code",
   "execution_count": 3,
   "metadata": {},
   "outputs": [
    {
     "name": "stdout",
     "output_type": "stream",
     "text": [
      "               year         month           day          hour         pm2.5  \\\n",
      "count  43824.000000  43824.000000  43824.000000  43824.000000  41757.000000   \n",
      "mean    2012.000000      6.523549     15.727820     11.500000     98.613215   \n",
      "std        1.413842      3.448572      8.799425      6.922266     92.050387   \n",
      "min     2010.000000      1.000000      1.000000      0.000000      0.000000   \n",
      "25%     2011.000000      4.000000      8.000000      5.750000     29.000000   \n",
      "50%     2012.000000      7.000000     16.000000     11.500000     72.000000   \n",
      "75%     2013.000000     10.000000     23.000000     17.250000    137.000000   \n",
      "max     2014.000000     12.000000     31.000000     23.000000    994.000000   \n",
      "\n",
      "               DEWP          TEMP          PRES           Iws            Is  \\\n",
      "count  43824.000000  43824.000000  43824.000000  43824.000000  43824.000000   \n",
      "mean       1.817246     12.448521   1016.447654     23.889140      0.052734   \n",
      "std       14.433440     12.198613     10.268698     50.010635      0.760375   \n",
      "min      -40.000000    -19.000000    991.000000      0.450000      0.000000   \n",
      "25%      -10.000000      2.000000   1008.000000      1.790000      0.000000   \n",
      "50%        2.000000     14.000000   1016.000000      5.370000      0.000000   \n",
      "75%       15.000000     23.000000   1025.000000     21.910000      0.000000   \n",
      "max       28.000000     42.000000   1046.000000    585.600000     27.000000   \n",
      "\n",
      "                 Ir  \n",
      "count  43824.000000  \n",
      "mean       0.194916  \n",
      "std        1.415867  \n",
      "min        0.000000  \n",
      "25%        0.000000  \n",
      "50%        0.000000  \n",
      "75%        0.000000  \n",
      "max       36.000000  \n"
     ]
    }
   ],
   "source": [
    "print(df.describe())"
   ]
  },
  {
   "cell_type": "code",
   "execution_count": 4,
   "metadata": {},
   "outputs": [
    {
     "name": "stdout",
     "output_type": "stream",
     "text": [
      "year       int64\n",
      "month      int64\n",
      "day        int64\n",
      "hour       int64\n",
      "pm2.5    float64\n",
      "DEWP       int64\n",
      "TEMP     float64\n",
      "PRES     float64\n",
      "cbwd      object\n",
      "Iws      float64\n",
      "Is         int64\n",
      "Ir         int64\n",
      "dtype: object\n"
     ]
    }
   ],
   "source": [
    "print(df.dtypes)"
   ]
  },
  {
   "cell_type": "markdown",
   "metadata": {},
   "source": [
    "I noticed the [year], [month], [day] and [hour] columns are all in int64 format, I chose to convert these columns into strings to help perform time series analysis and used back fill to imputate an y missing data for the PM2.5 columns. "
   ]
  },
  {
   "cell_type": "code",
   "execution_count": 5,
   "metadata": {},
   "outputs": [
    {
     "name": "stdout",
     "output_type": "stream",
     "text": [
      "    year month day hour  pm2.5  DEWP  TEMP    PRES cbwd    Iws  Is  Ir\n",
      "No                                                                    \n",
      "1   2010    01  01   00    NaN   -21 -11.0  1021.0   NW   1.79   0   0\n",
      "2   2010    01  01   01    NaN   -21 -12.0  1020.0   NW   4.92   0   0\n",
      "3   2010    01  01   02    NaN   -21 -11.0  1019.0   NW   6.71   0   0\n",
      "4   2010    01  01   03    NaN   -21 -14.0  1019.0   NW   9.84   0   0\n",
      "5   2010    01  01   04    NaN   -20 -12.0  1018.0   NW  12.97   0   0\n"
     ]
    }
   ],
   "source": [
    "df['month']=df.month.apply(str)\n",
    "df['day']=df.day.apply(str)\n",
    "df['hour']=df.hour.apply(str)\n",
    "df['month']=df['month'].apply(lambda x: x.zfill(2))\n",
    "df['day']=df['day'].apply(lambda x: x.zfill(2))\n",
    "df['hour']=df['hour'].apply(lambda x: x.zfill(2))\n",
    "print(df.head())"
   ]
  },
  {
   "cell_type": "code",
   "execution_count": 6,
   "metadata": {},
   "outputs": [
    {
     "data": {
      "text/plain": [
       "0"
      ]
     },
     "execution_count": 6,
     "metadata": {},
     "output_type": "execute_result"
    }
   ],
   "source": [
    "# Use back fill to imputate any missing data for PM2.5\n",
    "# Followed by checking for any NaN remaining\n",
    "df['pm2.5']=df['pm2.5'].fillna(method='bfill')\n",
    "df['pm2.5'].isnull().sum()"
   ]
  },
  {
   "cell_type": "markdown",
   "metadata": {},
   "source": [
    "Futher combing the [year], [month], [day], [hour] columns into a single column calle [period], now I can plot the PM2.5 vs. Time for regression analysis."
   ]
  },
  {
   "cell_type": "code",
   "execution_count": 7,
   "metadata": {},
   "outputs": [
    {
     "name": "stdout",
     "output_type": "stream",
     "text": [
      "No\n",
      "1    2010-01-01-00:00:00\n",
      "2    2010-01-01-01:00:00\n",
      "3    2010-01-01-02:00:00\n",
      "4    2010-01-01-03:00:00\n",
      "5    2010-01-01-04:00:00\n",
      "Name: period, dtype: object\n",
      "No\n",
      "43820    2014-12-31-19:00:00\n",
      "43821    2014-12-31-20:00:00\n",
      "43822    2014-12-31-21:00:00\n",
      "43823    2014-12-31-22:00:00\n",
      "43824    2014-12-31-23:00:00\n",
      "Name: period, dtype: object\n"
     ]
    }
   ],
   "source": [
    "df[\"period\"] = df[\"year\"].map(str) + '-' + df[\"month\"].map(str) + '-' + df[\"day\"].map(str) + '-' + df[\"hour\"].map(str) + ':00:00'\n",
    "print(df[\"period\"].head())\n",
    "print(df[\"period\"].tail())"
   ]
  },
  {
   "cell_type": "markdown",
   "metadata": {},
   "source": [
    "Plotting the PM2.5 column agains the period column, this is what returns:"
   ]
  },
  {
   "cell_type": "code",
   "execution_count": 8,
   "metadata": {},
   "outputs": [
    {
     "ename": "ValueError",
     "evalue": "could not convert string to float: '2014-12-31-23:00:00'",
     "output_type": "error",
     "traceback": [
      "\u001b[1;31m---------------------------------------------------------------------------\u001b[0m",
      "\u001b[1;31mValueError\u001b[0m                                Traceback (most recent call last)",
      "\u001b[1;32m<ipython-input-8-8c9fa8c723f3>\u001b[0m in \u001b[0;36m<module>\u001b[1;34m()\u001b[0m\n\u001b[1;32m----> 1\u001b[1;33m \u001b[0mplt\u001b[0m\u001b[1;33m.\u001b[0m\u001b[0mplot\u001b[0m\u001b[1;33m(\u001b[0m\u001b[0mdf\u001b[0m\u001b[1;33m[\u001b[0m\u001b[1;34m'period'\u001b[0m\u001b[1;33m]\u001b[0m\u001b[1;33m,\u001b[0m\u001b[0mdf\u001b[0m\u001b[1;33m[\u001b[0m\u001b[1;34m'pm2.5'\u001b[0m\u001b[1;33m]\u001b[0m\u001b[1;33m,\u001b[0m \u001b[0mlabel\u001b[0m\u001b[1;33m=\u001b[0m\u001b[1;34m'pm2.5'\u001b[0m\u001b[1;33m)\u001b[0m\u001b[1;33m\u001b[0m\u001b[0m\n\u001b[0m\u001b[0;32m      2\u001b[0m \u001b[0mplt\u001b[0m\u001b[1;33m.\u001b[0m\u001b[0myscale\u001b[0m\u001b[1;33m(\u001b[0m\u001b[1;34m'linear'\u001b[0m\u001b[1;33m)\u001b[0m\u001b[1;33m\u001b[0m\u001b[0m\n\u001b[0;32m      3\u001b[0m \u001b[0mplt\u001b[0m\u001b[1;33m.\u001b[0m\u001b[0mlegend\u001b[0m\u001b[1;33m(\u001b[0m\u001b[0mloc\u001b[0m\u001b[1;33m=\u001b[0m\u001b[1;34m'upper right'\u001b[0m\u001b[1;33m)\u001b[0m\u001b[1;33m\u001b[0m\u001b[0m\n\u001b[0;32m      4\u001b[0m \u001b[0mplt\u001b[0m\u001b[1;33m.\u001b[0m\u001b[0mtitle\u001b[0m\u001b[1;33m(\u001b[0m\u001b[1;34m'PM2.5 between 2010-2014'\u001b[0m\u001b[1;33m)\u001b[0m\u001b[1;33m\u001b[0m\u001b[0m\n\u001b[0;32m      5\u001b[0m \u001b[0mplt\u001b[0m\u001b[1;33m.\u001b[0m\u001b[0mshow\u001b[0m\u001b[1;33m(\u001b[0m\u001b[1;33m)\u001b[0m\u001b[1;33m\u001b[0m\u001b[0m\n",
      "\u001b[1;32mD:\\Anaconda\\lib\\site-packages\\matplotlib\\pyplot.py\u001b[0m in \u001b[0;36mplot\u001b[1;34m(*args, **kwargs)\u001b[0m\n\u001b[0;32m   3315\u001b[0m                       mplDeprecation)\n\u001b[0;32m   3316\u001b[0m     \u001b[1;32mtry\u001b[0m\u001b[1;33m:\u001b[0m\u001b[1;33m\u001b[0m\u001b[0m\n\u001b[1;32m-> 3317\u001b[1;33m         \u001b[0mret\u001b[0m \u001b[1;33m=\u001b[0m \u001b[0max\u001b[0m\u001b[1;33m.\u001b[0m\u001b[0mplot\u001b[0m\u001b[1;33m(\u001b[0m\u001b[1;33m*\u001b[0m\u001b[0margs\u001b[0m\u001b[1;33m,\u001b[0m \u001b[1;33m**\u001b[0m\u001b[0mkwargs\u001b[0m\u001b[1;33m)\u001b[0m\u001b[1;33m\u001b[0m\u001b[0m\n\u001b[0m\u001b[0;32m   3318\u001b[0m     \u001b[1;32mfinally\u001b[0m\u001b[1;33m:\u001b[0m\u001b[1;33m\u001b[0m\u001b[0m\n\u001b[0;32m   3319\u001b[0m         \u001b[0max\u001b[0m\u001b[1;33m.\u001b[0m\u001b[0m_hold\u001b[0m \u001b[1;33m=\u001b[0m \u001b[0mwashold\u001b[0m\u001b[1;33m\u001b[0m\u001b[0m\n",
      "\u001b[1;32mD:\\Anaconda\\lib\\site-packages\\matplotlib\\__init__.py\u001b[0m in \u001b[0;36minner\u001b[1;34m(ax, *args, **kwargs)\u001b[0m\n\u001b[0;32m   1896\u001b[0m                     warnings.warn(msg % (label_namer, func.__name__),\n\u001b[0;32m   1897\u001b[0m                                   RuntimeWarning, stacklevel=2)\n\u001b[1;32m-> 1898\u001b[1;33m             \u001b[1;32mreturn\u001b[0m \u001b[0mfunc\u001b[0m\u001b[1;33m(\u001b[0m\u001b[0max\u001b[0m\u001b[1;33m,\u001b[0m \u001b[1;33m*\u001b[0m\u001b[0margs\u001b[0m\u001b[1;33m,\u001b[0m \u001b[1;33m**\u001b[0m\u001b[0mkwargs\u001b[0m\u001b[1;33m)\u001b[0m\u001b[1;33m\u001b[0m\u001b[0m\n\u001b[0m\u001b[0;32m   1899\u001b[0m         \u001b[0mpre_doc\u001b[0m \u001b[1;33m=\u001b[0m \u001b[0minner\u001b[0m\u001b[1;33m.\u001b[0m\u001b[0m__doc__\u001b[0m\u001b[1;33m\u001b[0m\u001b[0m\n\u001b[0;32m   1900\u001b[0m         \u001b[1;32mif\u001b[0m \u001b[0mpre_doc\u001b[0m \u001b[1;32mis\u001b[0m \u001b[1;32mNone\u001b[0m\u001b[1;33m:\u001b[0m\u001b[1;33m\u001b[0m\u001b[0m\n",
      "\u001b[1;32mD:\\Anaconda\\lib\\site-packages\\matplotlib\\axes\\_axes.py\u001b[0m in \u001b[0;36mplot\u001b[1;34m(self, *args, **kwargs)\u001b[0m\n\u001b[0;32m   1405\u001b[0m \u001b[1;33m\u001b[0m\u001b[0m\n\u001b[0;32m   1406\u001b[0m         \u001b[1;32mfor\u001b[0m \u001b[0mline\u001b[0m \u001b[1;32min\u001b[0m \u001b[0mself\u001b[0m\u001b[1;33m.\u001b[0m\u001b[0m_get_lines\u001b[0m\u001b[1;33m(\u001b[0m\u001b[1;33m*\u001b[0m\u001b[0margs\u001b[0m\u001b[1;33m,\u001b[0m \u001b[1;33m**\u001b[0m\u001b[0mkwargs\u001b[0m\u001b[1;33m)\u001b[0m\u001b[1;33m:\u001b[0m\u001b[1;33m\u001b[0m\u001b[0m\n\u001b[1;32m-> 1407\u001b[1;33m             \u001b[0mself\u001b[0m\u001b[1;33m.\u001b[0m\u001b[0madd_line\u001b[0m\u001b[1;33m(\u001b[0m\u001b[0mline\u001b[0m\u001b[1;33m)\u001b[0m\u001b[1;33m\u001b[0m\u001b[0m\n\u001b[0m\u001b[0;32m   1408\u001b[0m             \u001b[0mlines\u001b[0m\u001b[1;33m.\u001b[0m\u001b[0mappend\u001b[0m\u001b[1;33m(\u001b[0m\u001b[0mline\u001b[0m\u001b[1;33m)\u001b[0m\u001b[1;33m\u001b[0m\u001b[0m\n\u001b[0;32m   1409\u001b[0m \u001b[1;33m\u001b[0m\u001b[0m\n",
      "\u001b[1;32mD:\\Anaconda\\lib\\site-packages\\matplotlib\\axes\\_base.py\u001b[0m in \u001b[0;36madd_line\u001b[1;34m(self, line)\u001b[0m\n\u001b[0;32m   1791\u001b[0m             \u001b[0mline\u001b[0m\u001b[1;33m.\u001b[0m\u001b[0mset_clip_path\u001b[0m\u001b[1;33m(\u001b[0m\u001b[0mself\u001b[0m\u001b[1;33m.\u001b[0m\u001b[0mpatch\u001b[0m\u001b[1;33m)\u001b[0m\u001b[1;33m\u001b[0m\u001b[0m\n\u001b[0;32m   1792\u001b[0m \u001b[1;33m\u001b[0m\u001b[0m\n\u001b[1;32m-> 1793\u001b[1;33m         \u001b[0mself\u001b[0m\u001b[1;33m.\u001b[0m\u001b[0m_update_line_limits\u001b[0m\u001b[1;33m(\u001b[0m\u001b[0mline\u001b[0m\u001b[1;33m)\u001b[0m\u001b[1;33m\u001b[0m\u001b[0m\n\u001b[0m\u001b[0;32m   1794\u001b[0m         \u001b[1;32mif\u001b[0m \u001b[1;32mnot\u001b[0m \u001b[0mline\u001b[0m\u001b[1;33m.\u001b[0m\u001b[0mget_label\u001b[0m\u001b[1;33m(\u001b[0m\u001b[1;33m)\u001b[0m\u001b[1;33m:\u001b[0m\u001b[1;33m\u001b[0m\u001b[0m\n\u001b[0;32m   1795\u001b[0m             \u001b[0mline\u001b[0m\u001b[1;33m.\u001b[0m\u001b[0mset_label\u001b[0m\u001b[1;33m(\u001b[0m\u001b[1;34m'_line%d'\u001b[0m \u001b[1;33m%\u001b[0m \u001b[0mlen\u001b[0m\u001b[1;33m(\u001b[0m\u001b[0mself\u001b[0m\u001b[1;33m.\u001b[0m\u001b[0mlines\u001b[0m\u001b[1;33m)\u001b[0m\u001b[1;33m)\u001b[0m\u001b[1;33m\u001b[0m\u001b[0m\n",
      "\u001b[1;32mD:\\Anaconda\\lib\\site-packages\\matplotlib\\axes\\_base.py\u001b[0m in \u001b[0;36m_update_line_limits\u001b[1;34m(self, line)\u001b[0m\n\u001b[0;32m   1813\u001b[0m         \u001b[0mFigures\u001b[0m \u001b[0mout\u001b[0m \u001b[0mthe\u001b[0m \u001b[0mdata\u001b[0m \u001b[0mlimit\u001b[0m \u001b[0mof\u001b[0m \u001b[0mthe\u001b[0m \u001b[0mgiven\u001b[0m \u001b[0mline\u001b[0m\u001b[1;33m,\u001b[0m \u001b[0mupdating\u001b[0m \u001b[0mself\u001b[0m\u001b[1;33m.\u001b[0m\u001b[0mdataLim\u001b[0m\u001b[1;33m.\u001b[0m\u001b[1;33m\u001b[0m\u001b[0m\n\u001b[0;32m   1814\u001b[0m         \"\"\"\n\u001b[1;32m-> 1815\u001b[1;33m         \u001b[0mpath\u001b[0m \u001b[1;33m=\u001b[0m \u001b[0mline\u001b[0m\u001b[1;33m.\u001b[0m\u001b[0mget_path\u001b[0m\u001b[1;33m(\u001b[0m\u001b[1;33m)\u001b[0m\u001b[1;33m\u001b[0m\u001b[0m\n\u001b[0m\u001b[0;32m   1816\u001b[0m         \u001b[1;32mif\u001b[0m \u001b[0mpath\u001b[0m\u001b[1;33m.\u001b[0m\u001b[0mvertices\u001b[0m\u001b[1;33m.\u001b[0m\u001b[0msize\u001b[0m \u001b[1;33m==\u001b[0m \u001b[1;36m0\u001b[0m\u001b[1;33m:\u001b[0m\u001b[1;33m\u001b[0m\u001b[0m\n\u001b[0;32m   1817\u001b[0m             \u001b[1;32mreturn\u001b[0m\u001b[1;33m\u001b[0m\u001b[0m\n",
      "\u001b[1;32mD:\\Anaconda\\lib\\site-packages\\matplotlib\\lines.py\u001b[0m in \u001b[0;36mget_path\u001b[1;34m(self)\u001b[0m\n\u001b[0;32m    987\u001b[0m         \"\"\"\n\u001b[0;32m    988\u001b[0m         \u001b[1;32mif\u001b[0m \u001b[0mself\u001b[0m\u001b[1;33m.\u001b[0m\u001b[0m_invalidy\u001b[0m \u001b[1;32mor\u001b[0m \u001b[0mself\u001b[0m\u001b[1;33m.\u001b[0m\u001b[0m_invalidx\u001b[0m\u001b[1;33m:\u001b[0m\u001b[1;33m\u001b[0m\u001b[0m\n\u001b[1;32m--> 989\u001b[1;33m             \u001b[0mself\u001b[0m\u001b[1;33m.\u001b[0m\u001b[0mrecache\u001b[0m\u001b[1;33m(\u001b[0m\u001b[1;33m)\u001b[0m\u001b[1;33m\u001b[0m\u001b[0m\n\u001b[0m\u001b[0;32m    990\u001b[0m         \u001b[1;32mreturn\u001b[0m \u001b[0mself\u001b[0m\u001b[1;33m.\u001b[0m\u001b[0m_path\u001b[0m\u001b[1;33m\u001b[0m\u001b[0m\n\u001b[0;32m    991\u001b[0m \u001b[1;33m\u001b[0m\u001b[0m\n",
      "\u001b[1;32mD:\\Anaconda\\lib\\site-packages\\matplotlib\\lines.py\u001b[0m in \u001b[0;36mrecache\u001b[1;34m(self, always)\u001b[0m\n\u001b[0;32m    674\u001b[0m                 \u001b[0mx\u001b[0m \u001b[1;33m=\u001b[0m \u001b[0mma\u001b[0m\u001b[1;33m.\u001b[0m\u001b[0masarray\u001b[0m\u001b[1;33m(\u001b[0m\u001b[0mxconv\u001b[0m\u001b[1;33m,\u001b[0m \u001b[0mnp\u001b[0m\u001b[1;33m.\u001b[0m\u001b[0mfloat_\u001b[0m\u001b[1;33m)\u001b[0m\u001b[1;33m.\u001b[0m\u001b[0mfilled\u001b[0m\u001b[1;33m(\u001b[0m\u001b[0mnp\u001b[0m\u001b[1;33m.\u001b[0m\u001b[0mnan\u001b[0m\u001b[1;33m)\u001b[0m\u001b[1;33m\u001b[0m\u001b[0m\n\u001b[0;32m    675\u001b[0m             \u001b[1;32melse\u001b[0m\u001b[1;33m:\u001b[0m\u001b[1;33m\u001b[0m\u001b[0m\n\u001b[1;32m--> 676\u001b[1;33m                 \u001b[0mx\u001b[0m \u001b[1;33m=\u001b[0m \u001b[0mnp\u001b[0m\u001b[1;33m.\u001b[0m\u001b[0masarray\u001b[0m\u001b[1;33m(\u001b[0m\u001b[0mxconv\u001b[0m\u001b[1;33m,\u001b[0m \u001b[0mnp\u001b[0m\u001b[1;33m.\u001b[0m\u001b[0mfloat_\u001b[0m\u001b[1;33m)\u001b[0m\u001b[1;33m\u001b[0m\u001b[0m\n\u001b[0m\u001b[0;32m    677\u001b[0m             \u001b[0mx\u001b[0m \u001b[1;33m=\u001b[0m \u001b[0mx\u001b[0m\u001b[1;33m.\u001b[0m\u001b[0mravel\u001b[0m\u001b[1;33m(\u001b[0m\u001b[1;33m)\u001b[0m\u001b[1;33m\u001b[0m\u001b[0m\n\u001b[0;32m    678\u001b[0m         \u001b[1;32melse\u001b[0m\u001b[1;33m:\u001b[0m\u001b[1;33m\u001b[0m\u001b[0m\n",
      "\u001b[1;32mD:\\Anaconda\\lib\\site-packages\\numpy\\core\\numeric.py\u001b[0m in \u001b[0;36masarray\u001b[1;34m(a, dtype, order)\u001b[0m\n\u001b[0;32m    529\u001b[0m \u001b[1;33m\u001b[0m\u001b[0m\n\u001b[0;32m    530\u001b[0m     \"\"\"\n\u001b[1;32m--> 531\u001b[1;33m     \u001b[1;32mreturn\u001b[0m \u001b[0marray\u001b[0m\u001b[1;33m(\u001b[0m\u001b[0ma\u001b[0m\u001b[1;33m,\u001b[0m \u001b[0mdtype\u001b[0m\u001b[1;33m,\u001b[0m \u001b[0mcopy\u001b[0m\u001b[1;33m=\u001b[0m\u001b[1;32mFalse\u001b[0m\u001b[1;33m,\u001b[0m \u001b[0morder\u001b[0m\u001b[1;33m=\u001b[0m\u001b[0morder\u001b[0m\u001b[1;33m)\u001b[0m\u001b[1;33m\u001b[0m\u001b[0m\n\u001b[0m\u001b[0;32m    532\u001b[0m \u001b[1;33m\u001b[0m\u001b[0m\n\u001b[0;32m    533\u001b[0m \u001b[1;33m\u001b[0m\u001b[0m\n",
      "\u001b[1;31mValueError\u001b[0m: could not convert string to float: '2014-12-31-23:00:00'"
     ]
    }
   ],
   "source": [
    "plt.plot(df['period'],df['pm2.5'], label='pm2.5')\n",
    "plt.yscale('linear')\n",
    "plt.legend(loc='upper right')\n",
    "plt.title('PM2.5 between 2010-2014')\n",
    "plt.show()"
   ]
  },
  {
   "cell_type": "markdown",
   "metadata": {},
   "source": [
    "The plots showed the dataset possess seasonality - the concentration of the PM2.5 particulate matters are higher during the winter periods of November to February than the summer months of May to September, and the cyclic trend can be observed annually between the individual year plots. \n",
    "\n",
    "To perform a regression analysis, I used Facebook Prophet, a helpful opensource tool created specifically to forecast time series data at scale.\n",
    "\n",
    "For additional information, you can visit the site here: https://facebook.github.io/prophet/"
   ]
  },
  {
   "cell_type": "markdown",
   "metadata": {},
   "source": [
    "# FACEBOOK PROPHET"
   ]
  },
  {
   "cell_type": "code",
   "execution_count": 9,
   "metadata": {},
   "outputs": [
    {
     "name": "stdout",
     "output_type": "stream",
     "text": [
      "Requirement already satisfied: fbprophet in d:\\anaconda\\lib\\site-packages\n",
      "Requirement already satisfied: matplotlib in d:\\anaconda\\lib\\site-packages (from fbprophet)\n",
      "Requirement already satisfied: pandas>=0.18.1 in d:\\anaconda\\lib\\site-packages (from fbprophet)\n",
      "Requirement already satisfied: pystan>=2.14 in d:\\anaconda\\lib\\site-packages (from fbprophet)\n",
      "Requirement already satisfied: numpy>=1.7.1 in d:\\anaconda\\lib\\site-packages (from matplotlib->fbprophet)\n",
      "Requirement already satisfied: six>=1.10 in d:\\anaconda\\lib\\site-packages (from matplotlib->fbprophet)\n",
      "Requirement already satisfied: python-dateutil in d:\\anaconda\\lib\\site-packages (from matplotlib->fbprophet)\n",
      "Requirement already satisfied: pytz in d:\\anaconda\\lib\\site-packages (from matplotlib->fbprophet)\n",
      "Requirement already satisfied: cycler>=0.10 in d:\\anaconda\\lib\\site-packages (from matplotlib->fbprophet)\n",
      "Requirement already satisfied: pyparsing!=2.0.4,!=2.1.2,!=2.1.6,>=1.5.6 in d:\\anaconda\\lib\\site-packages (from matplotlib->fbprophet)\n",
      "Requirement already satisfied: Cython!=0.25.1,>=0.22 in d:\\anaconda\\lib\\site-packages (from pystan>=2.14->fbprophet)\n"
     ]
    },
    {
     "name": "stderr",
     "output_type": "stream",
     "text": [
      "You are using pip version 9.0.1, however version 10.0.1 is available.\n",
      "You should consider upgrading via the 'python -m pip install --upgrade pip' command.\n",
      "D:\\Anaconda\\lib\\site-packages\\statsmodels\\compat\\pandas.py:56: FutureWarning: The pandas.core.datetools module is deprecated and will be removed in a future version. Please use the pandas.tseries module instead.\n",
      "  from pandas.core import datetools\n"
     ]
    }
   ],
   "source": [
    "!pip install fbprophet\n",
    "from fbprophet import Prophet\n",
    "from statsmodels.tsa.stattools import acf, pacf\n",
    "from statsmodels.tsa.arima_model import ARIMA"
   ]
  },
  {
   "cell_type": "markdown",
   "metadata": {},
   "source": [
    "# Creating a new \"period\" column for dates\n",
    "\n",
    "To check predicted values versus the actuaL PM2.5 values from Prophet's forecasting, the results from the year 2014 was omitted from the training data set, and a new 'period' time series with data ranging from 2010 to 2013. "
   ]
  },
  {
   "cell_type": "code",
   "execution_count": 10,
   "metadata": {},
   "outputs": [
    {
     "name": "stdout",
     "output_type": "stream",
     "text": [
      "No\n",
      "43820    NaN\n",
      "43821    NaN\n",
      "43822    NaN\n",
      "43823    NaN\n",
      "43824    NaN\n",
      "Name: period, dtype: object\n"
     ]
    }
   ],
   "source": [
    "#Isolated 2014 for prediction later\n",
    "df.loc[df['year'] != 2014];\n",
    "df[\"period\"] = df[\"year\"][:35063].map(str) + '-' + df[\"month\"].map(str) + '-' + df[\"day\"].map(str) + '-' + df[\"hour\"].map(str) + ':00:00'\n",
    "print(df[\"period\"].tail())"
   ]
  },
  {
   "cell_type": "code",
   "execution_count": 11,
   "metadata": {},
   "outputs": [
    {
     "name": "stdout",
     "output_type": "stream",
     "text": [
      "0\n"
     ]
    }
   ],
   "source": [
    "# Check for any NaN in the Dew Point Column\n",
    "print(df['DEWP'].isnull().sum())\n",
    "dewp = df['DEWP'];"
   ]
  },
  {
   "cell_type": "markdown",
   "metadata": {},
   "source": [
    "# First Forecast"
   ]
  },
  {
   "cell_type": "code",
   "execution_count": 12,
   "metadata": {},
   "outputs": [
    {
     "name": "stdout",
     "output_type": "stream",
     "text": [
      "                        ds     y\n",
      "No                              \n",
      "35059  2013-12-31-18:00:00  15.0\n",
      "35060  2013-12-31-19:00:00  22.0\n",
      "35061  2013-12-31-20:00:00  18.0\n",
      "35062  2013-12-31-21:00:00  23.0\n",
      "35063  2013-12-31-22:00:00  20.0\n"
     ]
    }
   ],
   "source": [
    "# Creating a new DataFrame for time and PM2.5 data between 2010 and 2013.\n",
    "df0 = df[['period', 'pm2.5']].fillna(method='bfill')\n",
    "df0=df0.dropna()\n",
    "df0.columns = ['ds','y']\n",
    "print(df0.tail())"
   ]
  },
  {
   "cell_type": "code",
   "execution_count": 13,
   "metadata": {},
   "outputs": [
    {
     "data": {
      "text/plain": [
       "(43824, 22)"
      ]
     },
     "execution_count": 13,
     "metadata": {},
     "output_type": "execute_result"
    }
   ],
   "source": [
    "m = Prophet()\n",
    "m.fit(df0);\n",
    "future = m.make_future_dataframe(periods=8761, freq='H')\n",
    "forecast = m.predict(future)\n",
    "forecast[['ds', 'yhat', 'yhat_lower', 'yhat_upper']].tail()\n",
    "forecast.shape"
   ]
  },
  {
   "cell_type": "code",
   "execution_count": 14,
   "metadata": {
    "collapsed": true
   },
   "outputs": [],
   "source": [
    "m.plot(forecast);"
   ]
  },
  {
   "cell_type": "code",
   "execution_count": 15,
   "metadata": {
    "collapsed": true
   },
   "outputs": [],
   "source": [
    "forecast_components = m.plot_components(forecast)"
   ]
  },
  {
   "cell_type": "markdown",
   "metadata": {},
   "source": [
    "# First Forecast - Results\n",
    "Notice the forecast of the PM2.5 values into the 2014 as well as the seasonality between the daily, weekly, and monthly values.\n",
    "\n",
    "From the first prediction using time as a sole regressor, we see:\n",
    "    \n",
    "    1. The PM2.5 values are higher during the evening and lower during the day time.\n",
    "    2. The PM2.5 is peaks during wednesday and weekends.\n",
    "    3. The winter months have a higher concentration of matter than the summer months.\n",
    "    \n",
    "But this is only the beginning of the Time-Series forecasting, Prophet allow for multiple regressions into the \"ds\" dataset. Now I will add dewpoint \"DEW\" into the dataframe."
   ]
  },
  {
   "cell_type": "markdown",
   "metadata": {},
   "source": [
    "# Second Forecast - 1 Additional Regressor"
   ]
  },
  {
   "cell_type": "code",
   "execution_count": 16,
   "metadata": {},
   "outputs": [
    {
     "name": "stdout",
     "output_type": "stream",
     "text": [
      "                 period  pm2.5  DEWP\n",
      "No                                  \n",
      "1   2010-01-01-00:00:00  129.0   -21\n",
      "2   2010-01-01-01:00:00  129.0   -21\n",
      "3   2010-01-01-02:00:00  129.0   -21\n",
      "4   2010-01-01-03:00:00  129.0   -21\n",
      "5   2010-01-01-04:00:00  129.0   -20\n",
      "                    period  pm2.5  DEWP\n",
      "No                                     \n",
      "35059  2013-12-31-18:00:00   15.0   -19\n",
      "35060  2013-12-31-19:00:00   22.0   -19\n",
      "35061  2013-12-31-20:00:00   18.0   -21\n",
      "35062  2013-12-31-21:00:00   23.0   -21\n",
      "35063  2013-12-31-22:00:00   20.0   -21\n"
     ]
    }
   ],
   "source": [
    "df1 = df[['period', 'pm2.5', 'DEWP']].fillna(method='bfill')\n",
    "df1=df1.dropna()\n",
    "print(df1.head())\n",
    "print(df1.tail())"
   ]
  },
  {
   "cell_type": "code",
   "execution_count": 17,
   "metadata": {
    "collapsed": true
   },
   "outputs": [],
   "source": [
    "df1.columns = ['ds','y', 'DEWP']"
   ]
  },
  {
   "cell_type": "markdown",
   "metadata": {},
   "source": [
    "### Using [period], and [DEWP] as Additional Regressors in Prophet"
   ]
  },
  {
   "cell_type": "code",
   "execution_count": 18,
   "metadata": {
    "collapsed": true,
    "scrolled": true
   },
   "outputs": [],
   "source": [
    "# Calling the FB Prophet method, adding a second regressor for DEWP\n",
    "m = Prophet()\n",
    "m.add_regressor('DEWP')\n",
    "m.fit(df1);"
   ]
  },
  {
   "cell_type": "code",
   "execution_count": null,
   "metadata": {},
   "outputs": [
    {
     "data": {
      "text/html": [
       "<div>\n",
       "<style>\n",
       "    .dataframe thead tr:only-child th {\n",
       "        text-align: right;\n",
       "    }\n",
       "\n",
       "    .dataframe thead th {\n",
       "        text-align: left;\n",
       "    }\n",
       "\n",
       "    .dataframe tbody tr th {\n",
       "        vertical-align: top;\n",
       "    }\n",
       "</style>\n",
       "<table border=\"1\" class=\"dataframe\">\n",
       "  <thead>\n",
       "    <tr style=\"text-align: right;\">\n",
       "      <th></th>\n",
       "      <th>ds</th>\n",
       "      <th>DEWP</th>\n",
       "    </tr>\n",
       "  </thead>\n",
       "  <tbody>\n",
       "    <tr>\n",
       "      <th>1</th>\n",
       "      <td>False</td>\n",
       "      <td>False</td>\n",
       "    </tr>\n",
       "    <tr>\n",
       "      <th>2</th>\n",
       "      <td>False</td>\n",
       "      <td>False</td>\n",
       "    </tr>\n",
       "    <tr>\n",
       "      <th>3</th>\n",
       "      <td>False</td>\n",
       "      <td>False</td>\n",
       "    </tr>\n",
       "    <tr>\n",
       "      <th>4</th>\n",
       "      <td>False</td>\n",
       "      <td>False</td>\n",
       "    </tr>\n",
       "    <tr>\n",
       "      <th>5</th>\n",
       "      <td>False</td>\n",
       "      <td>False</td>\n",
       "    </tr>\n",
       "    <tr>\n",
       "      <th>6</th>\n",
       "      <td>False</td>\n",
       "      <td>False</td>\n",
       "    </tr>\n",
       "    <tr>\n",
       "      <th>7</th>\n",
       "      <td>False</td>\n",
       "      <td>False</td>\n",
       "    </tr>\n",
       "    <tr>\n",
       "      <th>8</th>\n",
       "      <td>False</td>\n",
       "      <td>False</td>\n",
       "    </tr>\n",
       "    <tr>\n",
       "      <th>9</th>\n",
       "      <td>False</td>\n",
       "      <td>False</td>\n",
       "    </tr>\n",
       "    <tr>\n",
       "      <th>10</th>\n",
       "      <td>False</td>\n",
       "      <td>False</td>\n",
       "    </tr>\n",
       "    <tr>\n",
       "      <th>11</th>\n",
       "      <td>False</td>\n",
       "      <td>False</td>\n",
       "    </tr>\n",
       "    <tr>\n",
       "      <th>12</th>\n",
       "      <td>False</td>\n",
       "      <td>False</td>\n",
       "    </tr>\n",
       "    <tr>\n",
       "      <th>13</th>\n",
       "      <td>False</td>\n",
       "      <td>False</td>\n",
       "    </tr>\n",
       "    <tr>\n",
       "      <th>14</th>\n",
       "      <td>False</td>\n",
       "      <td>False</td>\n",
       "    </tr>\n",
       "    <tr>\n",
       "      <th>15</th>\n",
       "      <td>False</td>\n",
       "      <td>False</td>\n",
       "    </tr>\n",
       "    <tr>\n",
       "      <th>16</th>\n",
       "      <td>False</td>\n",
       "      <td>False</td>\n",
       "    </tr>\n",
       "    <tr>\n",
       "      <th>17</th>\n",
       "      <td>False</td>\n",
       "      <td>False</td>\n",
       "    </tr>\n",
       "    <tr>\n",
       "      <th>18</th>\n",
       "      <td>False</td>\n",
       "      <td>False</td>\n",
       "    </tr>\n",
       "    <tr>\n",
       "      <th>19</th>\n",
       "      <td>False</td>\n",
       "      <td>False</td>\n",
       "    </tr>\n",
       "    <tr>\n",
       "      <th>20</th>\n",
       "      <td>False</td>\n",
       "      <td>False</td>\n",
       "    </tr>\n",
       "    <tr>\n",
       "      <th>21</th>\n",
       "      <td>False</td>\n",
       "      <td>False</td>\n",
       "    </tr>\n",
       "    <tr>\n",
       "      <th>22</th>\n",
       "      <td>False</td>\n",
       "      <td>False</td>\n",
       "    </tr>\n",
       "    <tr>\n",
       "      <th>23</th>\n",
       "      <td>False</td>\n",
       "      <td>False</td>\n",
       "    </tr>\n",
       "    <tr>\n",
       "      <th>24</th>\n",
       "      <td>False</td>\n",
       "      <td>False</td>\n",
       "    </tr>\n",
       "    <tr>\n",
       "      <th>25</th>\n",
       "      <td>False</td>\n",
       "      <td>False</td>\n",
       "    </tr>\n",
       "    <tr>\n",
       "      <th>26</th>\n",
       "      <td>False</td>\n",
       "      <td>False</td>\n",
       "    </tr>\n",
       "    <tr>\n",
       "      <th>27</th>\n",
       "      <td>False</td>\n",
       "      <td>False</td>\n",
       "    </tr>\n",
       "    <tr>\n",
       "      <th>28</th>\n",
       "      <td>False</td>\n",
       "      <td>False</td>\n",
       "    </tr>\n",
       "    <tr>\n",
       "      <th>29</th>\n",
       "      <td>False</td>\n",
       "      <td>False</td>\n",
       "    </tr>\n",
       "    <tr>\n",
       "      <th>30</th>\n",
       "      <td>False</td>\n",
       "      <td>False</td>\n",
       "    </tr>\n",
       "    <tr>\n",
       "      <th>...</th>\n",
       "      <td>...</td>\n",
       "      <td>...</td>\n",
       "    </tr>\n",
       "    <tr>\n",
       "      <th>43794</th>\n",
       "      <td>False</td>\n",
       "      <td>False</td>\n",
       "    </tr>\n",
       "    <tr>\n",
       "      <th>43795</th>\n",
       "      <td>False</td>\n",
       "      <td>False</td>\n",
       "    </tr>\n",
       "    <tr>\n",
       "      <th>43796</th>\n",
       "      <td>False</td>\n",
       "      <td>False</td>\n",
       "    </tr>\n",
       "    <tr>\n",
       "      <th>43797</th>\n",
       "      <td>False</td>\n",
       "      <td>False</td>\n",
       "    </tr>\n",
       "    <tr>\n",
       "      <th>43798</th>\n",
       "      <td>False</td>\n",
       "      <td>False</td>\n",
       "    </tr>\n",
       "    <tr>\n",
       "      <th>43799</th>\n",
       "      <td>False</td>\n",
       "      <td>False</td>\n",
       "    </tr>\n",
       "    <tr>\n",
       "      <th>43800</th>\n",
       "      <td>False</td>\n",
       "      <td>False</td>\n",
       "    </tr>\n",
       "    <tr>\n",
       "      <th>43801</th>\n",
       "      <td>False</td>\n",
       "      <td>False</td>\n",
       "    </tr>\n",
       "    <tr>\n",
       "      <th>43802</th>\n",
       "      <td>False</td>\n",
       "      <td>False</td>\n",
       "    </tr>\n",
       "    <tr>\n",
       "      <th>43803</th>\n",
       "      <td>False</td>\n",
       "      <td>False</td>\n",
       "    </tr>\n",
       "    <tr>\n",
       "      <th>43804</th>\n",
       "      <td>False</td>\n",
       "      <td>False</td>\n",
       "    </tr>\n",
       "    <tr>\n",
       "      <th>43805</th>\n",
       "      <td>False</td>\n",
       "      <td>False</td>\n",
       "    </tr>\n",
       "    <tr>\n",
       "      <th>43806</th>\n",
       "      <td>False</td>\n",
       "      <td>False</td>\n",
       "    </tr>\n",
       "    <tr>\n",
       "      <th>43807</th>\n",
       "      <td>False</td>\n",
       "      <td>False</td>\n",
       "    </tr>\n",
       "    <tr>\n",
       "      <th>43808</th>\n",
       "      <td>False</td>\n",
       "      <td>False</td>\n",
       "    </tr>\n",
       "    <tr>\n",
       "      <th>43809</th>\n",
       "      <td>False</td>\n",
       "      <td>False</td>\n",
       "    </tr>\n",
       "    <tr>\n",
       "      <th>43810</th>\n",
       "      <td>False</td>\n",
       "      <td>False</td>\n",
       "    </tr>\n",
       "    <tr>\n",
       "      <th>43811</th>\n",
       "      <td>False</td>\n",
       "      <td>False</td>\n",
       "    </tr>\n",
       "    <tr>\n",
       "      <th>43812</th>\n",
       "      <td>False</td>\n",
       "      <td>False</td>\n",
       "    </tr>\n",
       "    <tr>\n",
       "      <th>43813</th>\n",
       "      <td>False</td>\n",
       "      <td>False</td>\n",
       "    </tr>\n",
       "    <tr>\n",
       "      <th>43814</th>\n",
       "      <td>False</td>\n",
       "      <td>False</td>\n",
       "    </tr>\n",
       "    <tr>\n",
       "      <th>43815</th>\n",
       "      <td>False</td>\n",
       "      <td>False</td>\n",
       "    </tr>\n",
       "    <tr>\n",
       "      <th>43816</th>\n",
       "      <td>False</td>\n",
       "      <td>False</td>\n",
       "    </tr>\n",
       "    <tr>\n",
       "      <th>43817</th>\n",
       "      <td>False</td>\n",
       "      <td>False</td>\n",
       "    </tr>\n",
       "    <tr>\n",
       "      <th>43818</th>\n",
       "      <td>False</td>\n",
       "      <td>False</td>\n",
       "    </tr>\n",
       "    <tr>\n",
       "      <th>43819</th>\n",
       "      <td>False</td>\n",
       "      <td>False</td>\n",
       "    </tr>\n",
       "    <tr>\n",
       "      <th>43820</th>\n",
       "      <td>False</td>\n",
       "      <td>False</td>\n",
       "    </tr>\n",
       "    <tr>\n",
       "      <th>43821</th>\n",
       "      <td>False</td>\n",
       "      <td>False</td>\n",
       "    </tr>\n",
       "    <tr>\n",
       "      <th>43822</th>\n",
       "      <td>False</td>\n",
       "      <td>False</td>\n",
       "    </tr>\n",
       "    <tr>\n",
       "      <th>43823</th>\n",
       "      <td>False</td>\n",
       "      <td>False</td>\n",
       "    </tr>\n",
       "  </tbody>\n",
       "</table>\n",
       "<p>43823 rows × 2 columns</p>\n",
       "</div>"
      ],
      "text/plain": [
       "          ds   DEWP\n",
       "1      False  False\n",
       "2      False  False\n",
       "3      False  False\n",
       "4      False  False\n",
       "5      False  False\n",
       "6      False  False\n",
       "7      False  False\n",
       "8      False  False\n",
       "9      False  False\n",
       "10     False  False\n",
       "11     False  False\n",
       "12     False  False\n",
       "13     False  False\n",
       "14     False  False\n",
       "15     False  False\n",
       "16     False  False\n",
       "17     False  False\n",
       "18     False  False\n",
       "19     False  False\n",
       "20     False  False\n",
       "21     False  False\n",
       "22     False  False\n",
       "23     False  False\n",
       "24     False  False\n",
       "25     False  False\n",
       "26     False  False\n",
       "27     False  False\n",
       "28     False  False\n",
       "29     False  False\n",
       "30     False  False\n",
       "...      ...    ...\n",
       "43794  False  False\n",
       "43795  False  False\n",
       "43796  False  False\n",
       "43797  False  False\n",
       "43798  False  False\n",
       "43799  False  False\n",
       "43800  False  False\n",
       "43801  False  False\n",
       "43802  False  False\n",
       "43803  False  False\n",
       "43804  False  False\n",
       "43805  False  False\n",
       "43806  False  False\n",
       "43807  False  False\n",
       "43808  False  False\n",
       "43809  False  False\n",
       "43810  False  False\n",
       "43811  False  False\n",
       "43812  False  False\n",
       "43813  False  False\n",
       "43814  False  False\n",
       "43815  False  False\n",
       "43816  False  False\n",
       "43817  False  False\n",
       "43818  False  False\n",
       "43819  False  False\n",
       "43820  False  False\n",
       "43821  False  False\n",
       "43822  False  False\n",
       "43823  False  False\n",
       "\n",
       "[43823 rows x 2 columns]"
      ]
     },
     "execution_count": 19,
     "metadata": {},
     "output_type": "execute_result"
    }
   ],
   "source": [
    "# The prediction period was one year in hours, hence the period is 8761 points. \n",
    "# Appending the DEWP colunms into the future dataframe, including DEWP data for 2014.\n",
    "future1 = m.make_future_dataframe(periods=8761, freq='H')\n",
    "future1.loc[:,'DEWP']=df['DEWP']\n",
    "future1 = future1.iloc[1:]\n",
    "future1.isnull()"
   ]
  },
  {
   "cell_type": "code",
   "execution_count": null,
   "metadata": {
    "collapsed": true
   },
   "outputs": [],
   "source": [
    "forecast1 = m.predict(future1)\n",
    "forecast1[['ds', 'yhat', 'yhat_lower', 'yhat_upper']].tail()\n",
    "forecast1.shape"
   ]
  },
  {
   "cell_type": "code",
   "execution_count": null,
   "metadata": {
    "collapsed": true
   },
   "outputs": [],
   "source": [
    "forecast1_plot = m.plot(forecast1)"
   ]
  },
  {
   "cell_type": "markdown",
   "metadata": {},
   "source": []
  },
  {
   "cell_type": "code",
   "execution_count": null,
   "metadata": {
    "collapsed": true,
    "scrolled": false
   },
   "outputs": [],
   "source": [
    "forecast1_components = m.plot_components(forecast1)"
   ]
  },
  {
   "cell_type": "markdown",
   "metadata": {},
   "source": [
    "# Second Forecast - Results\n",
    "\n",
    "Compared to the First Forecast, the forecast1 plot looked to have closer resemblance to the actual measured data. Although it is worthy to point that the predicted values goes into negative, which we know that to be false. However, looking into the seasonality of the data, I see the following: \n",
    "    \n",
    "    1. Again, the results of the PM2.5 values are higher during the evening and lower during the day time.\n",
    "    2. The PM2.5 concentrate is higher during mid week and Sunday, in particular.\n",
    "    3. The seasonality over the year shows that winter is again the period with higher concentration of PM2.5 values.\n",
    "    4. The trend is increasing with an additional regression in the Second Forecast, which is different from the negative slope from the First Forecast.\n",
    "    \n",
    "Next, I analyzed the data set with two regressors, Temperature and Dew Point, to see how the prediction changes."
   ]
  },
  {
   "cell_type": "markdown",
   "metadata": {},
   "source": [
    "# Third Forecast - 2 Additional Regressors"
   ]
  },
  {
   "cell_type": "code",
   "execution_count": null,
   "metadata": {
    "collapsed": true
   },
   "outputs": [],
   "source": [
    "print(df['TEMP'].isnull().sum())\n",
    "temp = df['TEMP']\n",
    "df2 = df[['period', 'pm2.5', 'DEWP', 'TEMP']].fillna(method='bfill')\n",
    "df2=df2.dropna()"
   ]
  },
  {
   "cell_type": "code",
   "execution_count": null,
   "metadata": {
    "collapsed": true
   },
   "outputs": [],
   "source": [
    "df2.columns = ['ds', 'y', 'DEWP', 'TEMP']\n",
    "print(df2.head());\n",
    "# Calling the FB Prophet method, adding a second regressor for TEMP\n",
    "m = Prophet()\n",
    "m.add_regressor('DEWP')\n",
    "m.add_regressor('TEMP')\n",
    "m.fit(df2);"
   ]
  },
  {
   "cell_type": "markdown",
   "metadata": {},
   "source": [
    "### Using [period], [DEWP] and [TEMP] as Additional Regressors in Prophet"
   ]
  },
  {
   "cell_type": "code",
   "execution_count": null,
   "metadata": {
    "collapsed": true
   },
   "outputs": [],
   "source": [
    "# The prediction period was one year in hours, hence the period is 8761 points. \n",
    "# Appending the DEWP colunms into the future dataframe, including DEWP data for 2014.\n",
    "future2 = m.make_future_dataframe(periods=8761, freq='H')\n",
    "future2.loc[:,'DEWP']=df['DEWP']\n",
    "future2.loc[:,'TEMP']=df['TEMP']\n",
    "#################################\n",
    "# For some reason, index row 0 contains a NaN that cannot be removed, the DataFrame was reset by starting off at index row 1.\n",
    "#################################\n",
    "future2 = future2.iloc[1:]\n",
    "future2.isnull()"
   ]
  },
  {
   "cell_type": "code",
   "execution_count": null,
   "metadata": {
    "collapsed": true
   },
   "outputs": [],
   "source": [
    "forecast2 = m.predict(future2);"
   ]
  },
  {
   "cell_type": "code",
   "execution_count": null,
   "metadata": {
    "collapsed": true
   },
   "outputs": [],
   "source": [
    "forecast2_plot = m.plot(forecast2)"
   ]
  },
  {
   "cell_type": "code",
   "execution_count": null,
   "metadata": {
    "collapsed": true
   },
   "outputs": [],
   "source": [
    "forecast2_components = m.plot_components(forecast2)"
   ]
  },
  {
   "cell_type": "code",
   "execution_count": null,
   "metadata": {
    "collapsed": true
   },
   "outputs": [],
   "source": [
    "forecast2[['ds', 'yhat', 'yhat_lower', 'yhat_upper']].tail()\n",
    "forecast2.shape;"
   ]
  },
  {
   "cell_type": "markdown",
   "metadata": {},
   "source": [
    "# Third Forecast - Results\n",
    "\n",
    "The third forecast with temperature and dew points as additional regressors created similar results with the second trial, the data showed the following:\n",
    "    \n",
    "    1. PM2.5 values are higher during the evening.\n",
    "    2. Midweek and sundays have higher concentration.\n",
    "    3. Winter concentration > Summer concentration.\n",
    "    4. The trend also has a positive slope.\n",
    "    \n",
    "To compared the results by numbers, I looked into the R squared values of the predicted values [yhats] to actual values [pm2.5]"
   ]
  },
  {
   "cell_type": "markdown",
   "metadata": {},
   "source": [
    "### Comparing Predicted Data vs. Actual using RMSE and MAE"
   ]
  },
  {
   "cell_type": "code",
   "execution_count": null,
   "metadata": {
    "collapsed": true
   },
   "outputs": [],
   "source": [
    "from sklearn.metrics import mean_absolute_error\n",
    "from sklearn.metrics import mean_squared_error\n",
    "from sklearn.metrics import r2_score\n",
    "from math import sqrt"
   ]
  },
  {
   "cell_type": "code",
   "execution_count": null,
   "metadata": {
    "collapsed": true
   },
   "outputs": [],
   "source": [
    "# Mean Squared Error\n",
    "mse = mean_squared_error(df['pm2.5'][35063:], forecast['yhat'][35063:])\n",
    "mse1 = mean_squared_error(df['pm2.5'][35064:], forecast1['yhat'][35063:])\n",
    "mse2 = mean_squared_error(df['pm2.5'][35064:], forecast2['yhat'][35063:])\n",
    "print(mse)\n",
    "print(mse1)\n",
    "print(mse2)"
   ]
  },
  {
   "cell_type": "code",
   "execution_count": null,
   "metadata": {
    "collapsed": true
   },
   "outputs": [],
   "source": [
    "# Calculate RMSE\n",
    "rmse = sqrt(mse)\n",
    "rmse1 = sqrt(mse1)\n",
    "rmse2 = sqrt(mse2)\n",
    "print('First Forecast RMSE is ' +str(rmse))\n",
    "print('Second Forecast RMSE is ' +str(rmse1))\n",
    "print('Third Forecast RMSE is ' +str(rmse2))"
   ]
  },
  {
   "cell_type": "code",
   "execution_count": null,
   "metadata": {
    "collapsed": true
   },
   "outputs": [],
   "source": [
    "# Calculate the Mean Absolute Errors\n",
    "print(mean_absolute_error(df['pm2.5'][35063:], forecast['yhat'][35063:]))\n",
    "print(mean_absolute_error(df['pm2.5'][35064:], forecast2['yhat'][35063:]))"
   ]
  },
  {
   "cell_type": "markdown",
   "metadata": {},
   "source": [
    "# Results Summary\n",
    "\n",
    "The major take away was that the RMSE for the additional regressors decreased, the the errors are minimized. Which show that adding the additional regressors help improve the accuracy of the results. However, the change between the second and third forecast with the additional [TEMP] regressors only marginal improvement, which could limit the prediction by overfitting.\n",
    "\n",
    "Additional sampling could be done by additional a 3rd regressor to the data set, as well as switching the second forecasting with [TEMP] instead of [DEWP] to compare the difference in values. \n",
    "\n",
    "To compare results, I'm going to use another time-series regression modeling with AutoRegressive Integrated Moving Average (ARIMA) and see if I could produce similar forecasting."
   ]
  },
  {
   "cell_type": "markdown",
   "metadata": {},
   "source": [
    "## ARIMA MODELING\n",
    "\n"
   ]
  },
  {
   "cell_type": "code",
   "execution_count": null,
   "metadata": {
    "collapsed": true
   },
   "outputs": [],
   "source": [
    "year_2014 = df[\"year\"][35064:].map(str) + '-' + df[\"month\"].map(str) + '-' + df[\"day\"].map(str) + '-' + df[\"hour\"].map(str) + ':00:00'\n",
    "year_2014 = year_2014.dropna()\n",
    "pm25 = df['pm2.5'][35064:]\n",
    "data = pd.concat([year_2014, pm25], axis=1, keys=['year_2014','pm25'])\n",
    "data.set_index('year_2014', inplace=True)\n",
    "data.index = pd.to_datetime(data.index)"
   ]
  },
  {
   "cell_type": "markdown",
   "metadata": {},
   "source": [
    "### ACF & PACF Plots"
   ]
  },
  {
   "cell_type": "code",
   "execution_count": null,
   "metadata": {
    "collapsed": true
   },
   "outputs": [],
   "source": [
    "lag_acf = acf(data, nlags=365)\n",
    "lag_pacf = pacf(data, nlags=10, method='ols')"
   ]
  },
  {
   "cell_type": "code",
   "execution_count": null,
   "metadata": {},
   "outputs": [],
   "source": [
    "# plot acf\n",
    "plt.subplot(121)\n",
    "plt.plot(lag_acf)\n",
    "plt.axhline(y=0, linestyle='--', color='gray')\n",
    "plt.title('Autocorrelation Function')"
   ]
  },
  {
   "cell_type": "code",
   "execution_count": null,
   "metadata": {
    "collapsed": true
   },
   "outputs": [],
   "source": [
    "# plot pacf\n",
    "plt.subplot(122)\n",
    "plt.plot(lag_pacf)\n",
    "plt.axhline(y=0, linestyle='--', color='gray')\n",
    "plt.title('Partial Autocorrelation Function')"
   ]
  },
  {
   "cell_type": "markdown",
   "metadata": {},
   "source": [
    "### AR"
   ]
  },
  {
   "cell_type": "code",
   "execution_count": null,
   "metadata": {
    "collapsed": true
   },
   "outputs": [],
   "source": [
    "model = ARIMA(data, order=(15,1,0))\n",
    "results_AR = model.fit(disp=-1)\n",
    "plt.plot(data)\n",
    "plt.plot(results_AR.fittedvalues, color='red')\n",
    "plt.xlim('2014-01-01', '2014-12-31')"
   ]
  },
  {
   "cell_type": "code",
   "execution_count": null,
   "metadata": {
    "collapsed": true
   },
   "outputs": [],
   "source": [
    "np.asarray(data)\n",
    "data.dtypes\n",
    "data.tail()"
   ]
  },
  {
   "cell_type": "code",
   "execution_count": null,
   "metadata": {
    "collapsed": true
   },
   "outputs": [],
   "source": [
    "model = ARIMA(data, order=(0,1,2))\n",
    "results_MA = model.fit(disp=-1)\n",
    "plt.plot(data)\n",
    "plt.plot(results_MA.fittedvalues, color='red')\n",
    "plt.xlim('2014-01-01', '2014-12-31')"
   ]
  },
  {
   "cell_type": "code",
   "execution_count": null,
   "metadata": {
    "collapsed": true
   },
   "outputs": [],
   "source": [
    "model = ARIMA(data, order=(2,1,2))\n",
    "results_ARIMA = model.fit(disp=-1)\n",
    "plt.plot(data)\n",
    "plt.plot(results_ARIMA.fittedvalues, color='red')\n",
    "plt.xlim('2014-01-01', '2014-12-31')"
   ]
  },
  {
   "cell_type": "markdown",
   "metadata": {},
   "source": [
    "# CONCLUSION"
   ]
  },
  {
   "cell_type": "markdown",
   "metadata": {},
   "source": [
    "prophet can give you a daily, weekly, monthly and annual data."
   ]
  }
 ],
 "metadata": {
  "kernelspec": {
   "display_name": "Python 3",
   "language": "python",
   "name": "python3"
  },
  "language_info": {
   "codemirror_mode": {
    "name": "ipython",
    "version": 3
   },
   "file_extension": ".py",
   "mimetype": "text/x-python",
   "name": "python",
   "nbconvert_exporter": "python",
   "pygments_lexer": "ipython3",
   "version": "3.6.2"
  }
 },
 "nbformat": 4,
 "nbformat_minor": 2
}
